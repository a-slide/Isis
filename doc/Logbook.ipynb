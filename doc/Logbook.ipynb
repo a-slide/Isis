{
 "metadata": {
  "name": "Logbook"
 },
 "nbformat": 3,
 "nbformat_minor": 0,
 "worksheets": [
  {
   "cells": [
    {
     "cell_type": "markdown",
     "metadata": {},
     "source": [
      "# ISIS LOGBOOK\n",
      "\n",
      "# 2014 04 18\n",
      "\n",
      "## @ QualGenerator\n",
      "\n",
      "Drafting d'une version \"Quick and dirty\" de QualGenerator"
     ]
    },
    {
     "cell_type": "code",
     "collapsed": false,
     "input": [
      "from random import gauss\n",
      "\n",
      "def illumina_qualgen (m_start, m_mid, m_end, sd_start, sd_mid, sd_end, length):\n",
      "    start_border = int(0.2*length)\n",
      "    mid_border = int(0.66*length)\n",
      "    end_border = length\n",
      "    mean_qual = []\n",
      "    sd_qual =[]\n",
      "    \n",
      "    for i in range (start_border) :\n",
      "        mean_qual.append    (int(m_start + (float (m_mid - m_start))/start_border*i))\n",
      "        sd_qual.append      (int(sd_start + (float (sd_mid - sd_start))/start_border*i))\n",
      "\n",
      "    for i in range (mid_border - start_border) :\n",
      "        mean_qual.append(m_mid)\n",
      "        sd_qual.append(sd_mid)\n",
      "\n",
      "    for i in range(end_border - mid_border):\n",
      "        mean_qual.append    (int(m_mid + (float (m_end - m_mid)/ (end_border - mid_border)*i)))\n",
      "        sd_qual.append      (int(sd_mid + (float (sd_end - sd_mid)/ (end_border - mid_border)*i)))\n",
      "\n",
      "    return (mean_qual, sd_qual)\n",
      "\n",
      "def random_qual_string (mean_qual, sd_qual, length):\n",
      "    return [valid_qual(mean_qual[i], sd_qual[i]) for i in range (length)]\n",
      "\n",
      "def valid_qual(mean, sd):\n",
      "    while True:\n",
      "        qual = int(gauss(mean, sd))\n",
      "        if 0 <= qual <= 40:\n",
      "            return qual\n",
      "\n",
      "def illumina_qualgen2 (len, Q0m, Q1m, Q2m, Q3m, Q4m, Q0r, Q1r, Q2r, Q3r, Q4r, Q0f, Q1f, Q2f, Q3f, Q4f): \n",
      "    \"\"\"Create a quality template for mean value and sd as \"\"\"\n",
      "    \n",
      "    l   = [[Q0m, Q0m - Q0r/2, Q0m + Q0r/2, int(Q0f * len)],\n",
      "           [Q1m, Q1m - Q1r/2, Q1m + Q1r/2, int(Q1f * len)],\n",
      "           [Q2m, Q2m - Q2r/2, Q2m + Q2r/2, int(Q2f * len)],\n",
      "           [Q3m, Q3m - Q3r/2, Q3m + Q3r/2, int(Q3f * len)],\n",
      "           [Q4m, Q4m - Q4r/2, Q4m + Q4r/2, int(Q4f * len)]]\n",
      "    \n",
      "    qual_pattern = []\n",
      "    \n",
      "    for area in range (4):\n",
      "        start_mean  = l [area] [0]\n",
      "        delta_mean  = int(l [area + 1] [0] - l [area] [0])\n",
      "        start_min   = l [area] [1]\n",
      "        delta_min   = int(l [area + 1] [1] - l [area] [1])\n",
      "        start_max   = l [area] [2]\n",
      "        delta_max   = int(l [area + 1] [2] - l [area] [2])\n",
      "        len_area    = l [area + 1] [3]\n",
      "        \n",
      "        for pos in range(len_area):\n",
      "            mean_qual =  int( start_mean + (float (delta_mean)/ (len_area)*pos))\n",
      "            min_qual  =  int( start_min  + (float (delta_min) / (len_area)*pos))\n",
      "            max_qual  =  int( start_max  + (float (delta_max) / (len_area)*pos))\n",
      "            qual_pattern.append([mean_qual, min_qual, max_qual])\n",
      "\n",
      "    return qual_pattern"
     ],
     "language": "python",
     "metadata": {},
     "outputs": []
    },
    {
     "cell_type": "markdown",
     "metadata": {},
     "source": [
      "# 2014 04 22\n",
      "## @ QualGenerator\n",
      "\n",
      "Implementation d'une classe accessoire permettant de g\u00e9n\u00e9rer des listes de score de qualit\u00e9.\n",
      "Un pattern mod\u00e8le est d\u00e9termin\u00e9 \u00e0 l'instanciation de la classe (mean, min et max pour chaque position) \u00e0 partir de param\u00e8tres donn\u00e9s par l'utilisateur pour le d\u00e9part, le premier quart, le milieu, le troisi\u00e8me quart et la fin. Pour chaque zone il faut fournir la moyenne et la sd\n",
      "\n",
      "A partir de ce pattern, l'objet peut \u00eatre appel\u00e9 pour g\u00e9n\u00e9rer des listes de score de qualit\u00e9 suivant suivant le pattern (facteur d'attraction \u00e0 la moyenne) mais avec une une part stochastique suivant une distribution Gaussienne centr\u00e9e sur de 0 en variant dans l'intervalle min, max autoris\u00e9\n",
      "\n",
      "Ci dessous voici le script utilis\u00e9 pour tester le programme."
     ]
    },
    {
     "cell_type": "code",
     "collapsed": false,
     "input": [
      "from QualGenerator import QualGenerator\n",
      "q = QualGenerator(100, 30,35,37,35,20, 10,4,2,6,20, 0,15,25,25,35)\n",
      "with (open(\"test.csv\", \"w\")) as file:\n",
      "    for i in range (10):\n",
      "        s =\"\"\n",
      " \tfor i in q.random_qual_string():\n",
      "  \t    s += \"{};\".format(i)\n",
      "\tfile.write(s+\"\\n\")"
     ],
     "language": "python",
     "metadata": {},
     "outputs": []
    },
    {
     "cell_type": "markdown",
     "metadata": {},
     "source": [
      "Quelques modifications ont \u00e9t\u00e9 apport\u00e9 par la suite pour ne plus travailler en intervalle de qualit\u00e9 mais plut\u00f4t en sd directement. D'autre part, j'ai simplifi\u00e9 consid\u00e9rablement les param\u00e8tres \u00e0 passer pour instancier la classe. Il s'agit d\u00e9sormais d'indiquer si on souhaite une qualit\u00e9 : \"very good\", \"good\", \"medium\", \"bad\", \"very bad\". Les param\u00e8tres de chaque cat\u00e9gorie de qualit\u00e9 sont inclus en dur dans la classe d'apr\u00e8s des approximations exp\u00e9rimentales"
     ]
    },
    {
     "cell_type": "code",
     "collapsed": false,
     "input": [
      "qual_param_dict = {\n",
      "    \"very_good\" : [[33,38,39,38,36], [2,1,1,1,5],  [0,a1,a2,a3,a4]],\n",
      "    \"good\"      : [[32,37,38,37,32], [2,2,1,3,10],  [0,a1,a2,a3,a4]],\n",
      "    \"medium\"    : [[30,36,37,32,25], [4,3,2,10,10], [0,a1,a2,a3,a4]],\n",
      "    \"bad\"       : [[25,30,32,28,20], [4,3,2,10,10], [0,a1,a2,a3,a4]],\n",
      "    \"very_bad\"  : [[15,20,20,15,5],  [4,3,2,10,10], [0,a1,a2,a3,a4]]}"
     ],
     "language": "python",
     "metadata": {},
     "outputs": []
    },
    {
     "cell_type": "markdown",
     "metadata": {},
     "source": [
      "Pour chaque entr\u00e9e du dictionnaire la premi\u00e8re liste correspond \u00e0 la qualit\u00e9 moyenne, la seconde \u00e0 la sd, et la troisi\u00e8me \u00e0 la taille en pb de la r\u00e9gion (recalcul\u00e9 pour chaque longueur donn\u00e9e par l'utilisateur"
     ]
    },
    {
     "cell_type": "markdown",
     "metadata": {},
     "source": [
      "# 2014 04 23\n",
      "## @ QualGenerator\n",
      "\n",
      "Il reste potentiellement encore un peu de travail sur cette classe :\n",
      "\n",
      "* Mieux d\u00e9finir les cat\u00e9gories de qualit\u00e9\n",
      "* Permettre la cr\u00e9ation de nouveau pattern ?\n",
      "* Jouer sur le facteur d'attraction \u00e0 la moyenne (mean_attraction_factor) plus le diviseur est petit et plus l'attraction est forte (Fix\u00e9 \u00e0 2 pour le moment)\n",
      "\n",
      "Reformatage du code pour se plier aux recommandations du \"PEP8 style guide for python code\"\n",
      "\n",
      "Script ci dessous utilis\u00e9 pour tester plus en detail QualGenerator"
     ]
    },
    {
     "cell_type": "code",
     "collapsed": false,
     "input": [
      "from QualGenerator import QualGenerator\n",
      "from matplotlib import pyplot\n",
      "\n",
      "def qtester(length, quality, iteration, title):\n",
      "\n",
      "    q = QualGenerator(length, quality)\n",
      "    fig = pyplot.figure(figsize=(length/2, 10), dpi=100)\n",
      "    pyplot.title(title)\n",
      "    pyplot.ylabel('PHRED Quality')\n",
      "    pyplot.xlabel('Position')\n",
      "    position = [i+1 for i in range (length)]\n",
      "    \n",
      "    for i in range (iteration):\n",
      "        q_list = q.random_qual_string()\n",
      "        pyplot.plot(position, q_list)\n",
      "\n",
      "    fig.savefig(title+'.png')"
     ],
     "language": "python",
     "metadata": {},
     "outputs": []
    },
    {
     "cell_type": "markdown",
     "metadata": {},
     "source": [
      "Exemple avec `qtester(75, \"good\", 10, \"len=75_qual=good_divider=2.png`\n",
      "\n",
      "![](len=75_qual=good_divider=2.png)\n",
      "\n",
      "\n"
     ]
    },
    {
     "cell_type": "markdown",
     "metadata": {},
     "source": [
      "<img src=\"files/img/len=75_qual=good_divider=2.png\" />"
     ]
    },
    {
     "cell_type": "markdown",
     "metadata": {},
     "source": [
      "## @ ReferenceGenome\n",
      "\n",
      "Reformatage du code pour se plier aux recommandations du \"PEP8 style guide for python code\"\n",
      "\n",
      "## + FastqGenerator\n",
      "\n",
      "Drafting d'une version \"Quick and dirty\" de FastqGenerator"
     ]
    },
    {
     "cell_type": "code",
     "collapsed": false,
     "input": [
      "from ReferenceGenome import ReferenceGenome\n",
      "from SlicePicker import SlicePicker\n",
      "from QualGenerator import QualGenerator\n",
      "\n",
      "def FastqGenerator (source, file, quality, length, mutfreq):\n",
      "\n",
      "    g = ReferenceGenome (source, file)\n",
      "    print(repr(g))\n",
      "    \n",
      "    s = SlicePicker ()\n",
      "    print(repr(s))\n",
      "    \n",
      "    q = QualGenerator (length, quality)\n",
      "    print(repr(q))\n",
      "\n",
      "    read = s.pick_single(g,length,1,1,mutfreq)\n",
      "    read.letter_annotations[\"phred_quality\"] = q.random_qual_string()\n",
      "    read.id = \"{}|{}|loc_{}_{}_{}\".format(\n",
      "        read.annotations[\"source\"],\n",
      "        read.annotations[\"refseq\"],\n",
      "        read.annotations[\"location\"][0],\n",
      "        read.annotations[\"location\"][1],\n",
      "        read.annotations[\"orientation\"])\n",
      "    \n",
      "    print(read)\n",
      "    print(read.format(\"qual\"))\n",
      "    print(read.format(\"fastq-illumina\"))\n",
      "\n",
      "    return read"
     ],
     "language": "python",
     "metadata": {},
     "outputs": []
    },
    {
     "cell_type": "markdown",
     "metadata": {},
     "source": [
      "\n",
      "Pendant l'ecriture du module, il m'a sembl\u00e9 que la direction que j'avais prise auparavant pour SlicePicker (\u00e0 savoir une classe portant les methodes pour single et pair read picking) \u00e9tait mauvaise. Il y a en effet beaucoup de param\u00e8tres \u00e0 passer par FastqGenerator.\n",
      "\n",
      "\n",
      "## @ SlicePicker\n",
      "\n",
      "S\u00e9paration de la classe en 2 sous classes SlicePickerSingle et SlicePickerPair chacune sp\u00e9cialis\u00e9e dans les read single ou paired.\n",
      "Le code est mieux factoris\u00e9 et lors de l'instanciation les classes auront directement plusieurs variables stock\u00e9es.\n",
      "Pour le moment j'ai un probl\u00e8me \u00e0 l'instanciation via __init__ de la super classe. A revoir"
     ]
    },
    {
     "cell_type": "markdown",
     "metadata": {},
     "source": [
      "# 2014 04 24\n",
      "\n",
      "## @ SlicePicker\n",
      "\n",
      "Le probl\u00e8me venait du fait que la classe SlicePicker n'h\u00e9ritait pas de la classe objet qui correspond aux classe \"new style\" en python\n",
      "Normalement \u00e7a devrait \u00eatre automatique depuis python 2.6 ... Le probl\u00e8me peut \u00eatre r\u00e9solu avec la solution ci dessous\n",
      "\n",
      "Exemple:"
     ]
    },
    {
     "cell_type": "code",
     "collapsed": false,
     "input": [
      "# Running this code will raise `TypeError: must be type, not classobj`\n",
      "class class_A:\n",
      "  def __init__( self ):\n",
      "    print 'Class A'\n",
      "\n",
      "class class_B( class_A ):\n",
      "  def __init__( self ):\n",
      "    print 'Class B'\n",
      "    super( class_B, self ).__init__()\n",
      "\n",
      "class_B()\n",
      "\n",
      "# Running this code will no longer raise `TypeError: must be type, not classobj`\n",
      "class class_A( object ): # < Note the inheritance of `object`. \n",
      "  def __init__( self ):\n",
      "    print 'Class A'\n",
      "\n",
      "class class_B( class_A ):\n",
      "  def __init__( self ):\n",
      "    print 'Class B'\n",
      "    super( class_B, self ).__init__()\n",
      "\n",
      "class_B()"
     ],
     "language": "python",
     "metadata": {},
     "outputs": []
    },
    {
     "cell_type": "markdown",
     "metadata": {},
     "source": [
      "Apr\u00e9s un peu de d\u00e9bogage les classes SlicePicker, SlicePickerSingle et SlicePickerPair fonctionnent toutes 3. Voir code de la fonction draft de FastqGenerator pour les paires"
     ]
    },
    {
     "cell_type": "code",
     "collapsed": false,
     "input": [
      "from ReferenceGenome import ReferenceGenome\n",
      "from SlicePicker import SlicePickerPair\n",
      "from QualGenerator import QualGenerator\n",
      "\n",
      "def FastqGenerator (source, file, quality, read_len, sonic_min, sonic_max, sonic_mode, sonic_certainty, repeats, ambiguous, mut_freq):\n",
      "\n",
      "    g = ReferenceGenome (source, file)\n",
      "    print(repr(g))\n",
      "    \n",
      "    s = SlicePickerPair(read_len, sonic_min, sonic_max, sonic_mode, sonic_certainty, repeats, ambiguous, mut_freq)\n",
      "    print(repr(s))\n",
      "    \n",
      "    q = QualGenerator (read_len, quality)\n",
      "    print(repr(q))\n",
      "\n",
      "    read1, read2 = s.pick_slice(g)\n",
      "    read1.letter_annotations[\"phred_quality\"] = q.random_qual_string()\n",
      "    read2.letter_annotations[\"phred_quality\"] = q.random_qual_string()\n",
      "    \n",
      "    read1.id = \"R1\"\n",
      "    read2.id = \"R2\"\n",
      "\n",
      "    print(read1)\n",
      "    print(read2)\n",
      "    \n",
      "    print(read1.format(\"fastq-illumina\"))\n",
      "    print(read2.format(\"fastq-illumina\"))\n",
      "    \n",
      "    return (read1, read2)"
     ],
     "language": "python",
     "metadata": {},
     "outputs": []
    },
    {
     "cell_type": "markdown",
     "metadata": {},
     "source": [
      "TO DO pour ce package\n",
      "\n",
      "* Reformatage du code pour \u00eatre conforme \u00e0 la norme PEP8\n",
      "\n",
      "* Test plus avanc\u00e9 des bogues possibles"
     ]
    },
    {
     "cell_type": "markdown",
     "metadata": {},
     "source": [
      "# 2014 04 25\n",
      "\n",
      "## @ SlicePicker\n",
      "Le nommage des id des reads sera fait d\u00e9sormais au fur et \u00e0 mesure et pas uniquement dans SlicePicker.\n",
      "Nommage partielle dans SlicePickerPair (pas besoin dans SlicePickerSingle)\n",
      "\n",
      "Suite formatage PEP8\n",
      "\n",
      "## @ ReferenceGenome et referenceJunction\n",
      "Formatage PEP8\n",
      "\n",
      "Ajout de commentaires dans la code\n",
      "\n",
      "Simplification de certaines fonctions et d\u00e9but du nommage des id des SeqReccord."
     ]
    },
    {
     "cell_type": "markdown",
     "metadata": {},
     "source": [
      "# 2014 04 28\n",
      "## @ ConfFileParser, IsisConf\n",
      "\n",
      "PEP8 formatting and modifications of variables \n",
      "\n",
      "A noter qu'il existe d\u00e9j\u00e0 une classe de base dans python d\u00e9di\u00e9 au parsing des fichiers de configuration.\n",
      "\n",
      "[ConfigParser](https://docs.python.org/2/library/configparser.html)\n",
      "\n",
      "Les 2 classes que j'ai cod\u00e9 semblent cependant plus adapt\u00e9 \u00e0 mon programme, mais il faudrait peut \u00eatre voir si ce n'est pas adaptable qd m\u00eame.\n",
      "\n",
      "## @ SlicePicker, ReferenceGenome et ReferenceJunctions\n",
      "\n",
      "* Fin de formatage PEP8\n",
      "* Suppression de la mention \u00e0 la source. C'est maintenant un champs dans annotations qui link directement vers l'objet contenant les r\u00e9f\u00e9rences source.\n",
      "* Renommage des read g\u00e9n\u00e9r\u00e9s en par des id plus simple"
     ]
    },
    {
     "cell_type": "code",
     "collapsed": false,
     "input": [
      "from ReferenceGenome import ReferenceGenome\n",
      "from ReferenceJunctions import ReferenceJunctions\n",
      "\n",
      "from SlicePicker import SlicePickerSingle\n",
      "from SlicePicker import SlicePickerPair\n",
      "\n",
      "bacteria = ReferenceGenome (\"datasets/Bacterial_backbone.fa\")\n",
      "helper = ReferenceGenome (\"datasets/Helper_plasmid.fa\")\n",
      "junction = ReferenceJunctions(50, 200, 10, bacteria, helper, 1, 1)\n",
      "\n",
      "slicer1 = SlicePickerSingle(200,1,1,0.1)\n",
      "slicer2 = SlicePickerPair(200, 300, 700, 350, 10, 1,1,0.1)\n",
      "\n",
      "s1b = slicer1.pick_slice (bacteria)\n",
      "print \"S1B\\n{}\\n\".format(s1b)\n",
      "\n",
      "s1j = slicer1.pick_slice (junction)\n",
      "print \"S1J\\n{}\\n\".format(s1j)\n",
      "\n",
      "s2b = slicer2.pick_slice (bacteria)\n",
      "print \"S2B\\nR1\\n{}\\nR2\\n{}\".format(s2b[0],s2b[1])\n",
      "\n",
      "s2j = slicer2.pick_slice (junction)\n",
      "print \"S2J\\nR1\\n{}\\nR2\\n{}\".format(s2j[0],s2j[1])"
     ],
     "language": "python",
     "metadata": {},
     "outputs": []
    },
    {
     "cell_type": "markdown",
     "metadata": {},
     "source": [
      "Retour de paires sans s\u00e9quence parfois pour tirage dans la r\u00e9f\u00e9rence jonction. Cela venait du fait que la junction source \u00e9tait trop petite en cas de grande taille de sonication. Taille minimale des jonctions = 2* taille read si single end, mais = 2* sonic_max si paired ends... Attention a faire attention dans le futur.\n",
      "\n",
      "Script de test pour voir si plus de read vide g\u00e9n\u00e9r\u00e9s apr\u00e8s n tentatives. \n"
     ]
    },
    {
     "cell_type": "code",
     "collapsed": false,
     "input": [
      "def test(n):\n",
      "    for i in range (n):\n",
      "        s2 = slicer2.pick_slice (junction)\n",
      "        if len(s2 [0]) == 0:\n",
      "            print \"Exit at iteration {}\\n\".format(i)\n",
      "            print(\"S2\\nR1\\n{}\\nR2\\n{}\".format(s2[0],s2[1]))\n",
      "            return\n",
      "    print \"All valid\"\n",
      "    return"
     ],
     "language": "python",
     "metadata": {},
     "outputs": []
    },
    {
     "cell_type": "markdown",
     "metadata": {},
     "source": [
      "## @ FastQGenerator\n",
      "\n",
      "Comme pour SlicePicker auparavant, j'ai splitt\u00e9 le code en 2 **FastqGeneratorSingle** pour les read Single et **FastqGeneratorPair** pour les read paired.\n",
      "Les classes sont fonctionnelles\n",
      "\n",
      "## @ ReferenceGenome et ReferenceJunctions\n",
      "\n",
      "Les objets seq record poss\u00e8dent d\u00e9sormais un compteur qui s'incr\u00e9ment \u00e0 chaque fois qu'un read est pioch\u00e9 dans la r\u00e9f\u00e9rence.\n",
      "\n",
      "## @ FastqGenerator\n",
      "\n",
      "Etant donn\u00e9e que l'\u00e9criture du rapport va \u00eatre plus simple maintenant, FastqGenerator va se charger de l'ecriture de n read dans le(s) fichiers de sortie. Apport des modifications n\u00e9cessaires aux classes en question\n",
      "\n",
      "Premier est grandeur nature pour les read single"
     ]
    },
    {
     "cell_type": "code",
     "collapsed": false,
     "input": [
      "from ReferenceGenome import ReferenceGenome\n",
      "from SlicePicker import SlicePickerSingle\n",
      "from QualGenerator import QualGenerator\n",
      "from FastqGenerator import FastqGeneratorSingle\n",
      "\n",
      "helper = ReferenceGenome (\"datasets/Helper_plasmid.fa\")\n",
      "\n",
      "slicer1 = SlicePickerSingle(200,1,1,0.1)\n",
      "qualgen = QualGenerator (200, \"good\")\n",
      "\n",
      "fast1 = FastqGeneratorSingle (slicer1, qualgen, \"fastq-sanger\")\n",
      "\n",
      "fast1.write_fastq(helper, 1000, \"test\")\n",
      "\n",
      "for name, rec in helper.d.items():\n",
      "    print \"id = {}, nb samp = {}, length = {}\".format(name, rec.annotations[\"nb_samp\"], len(rec))\n"
     ],
     "language": "python",
     "metadata": {},
     "outputs": []
    },
    {
     "cell_type": "markdown",
     "metadata": {},
     "source": [
      "Affichage de sortie"
     ]
    },
    {
     "cell_type": "raw",
     "metadata": {},
     "source": [
      "id = Helper_5, nb samp = 68, length = 1827\n",
      "id = Helper_4, nb samp = 248, length = 5810\n",
      "id = Helper_1, nb samp = 111, length = 2590\n",
      "id = Helper_3, nb samp = 396, length = 8610\n",
      "id = Helper_2, nb samp = 187, length = 3920"
     ]
    },
    {
     "cell_type": "markdown",
     "metadata": {},
     "source": [
      "Le fichier fastq ont bien \u00e9t\u00e9 cr\u00e9\u00e9 dans le dossier. Analyse par Fastqc = tr\u00e8s convainquant\n",
      "<img src=\"files/img/per_base_quality.png\" />\n",
      "\n",
      "## TODO\n",
      "* Tester en pair end\n",
      "* passer en mode de g\u00e9n\u00e9ration multiproc\n",
      "* Ecrire la classe qui g\u00e9n\u00e9re le rapport de sampling\n",
      "* Ecrire le main"
     ]
    },
    {
     "cell_type": "markdown",
     "metadata": {},
     "source": [
      "# 2014 04 29\n",
      "\n",
      "## @ ReferenceGenome et ReferenceJunctions\n",
      "\n",
      "Finalement j'ai remis le \"name\" de la source qui est en fait important pour nommer les fichiers export\u00e9s\n",
      "J'ai ajout\u00e9 une m\u00e9thode dans chacun des classe Reference pour \u00e9crire un rapport des r\u00e9f\u00e9rences avec le nombre d'\u00e9chantillonnage dans chacune. La fonction est diff\u00e9rente dans ReferenceGenome et ReferenceJunctions.\n",
      "\n",
      "Suppression de l'explication de _random_slice du code de ReferenceJunctions"
     ]
    },
    {
     "cell_type": "markdown",
     "metadata": {},
     "source": [
      "    Example of the strategy with size = 20 and min chimeric = 6\n",
      "    Junction      -----------------------------|-----------------------------\n",
      "    Chimeric bases                       /////////////\n",
      "    Start area    ///////////////ooooooo////////////////////////////////////\n",
      "    End area      ////////////////////////////////////ooooooo////////////////"
     ]
    },
    {
     "cell_type": "markdown",
     "metadata": {},
     "source": [
      "Exemple de test de la fonction de g\u00e9n\u00e9ration de rapport de ReferenceJunctions [ICI](files/img/True_Junction_samp_report.csv)\n",
      "\n",
      "Exemple de test de la fonction de g\u00e9n\u00e9ration de rapport de ReferenceGenome [ICI](files/img/host_samp_report.csv)\n",
      "\n"
     ]
    },
    {
     "cell_type": "markdown",
     "metadata": {},
     "source": [
      "## @ Isis.py\n",
      "\n",
      "J'ai bien entam\u00e9 l'\u00e9criture de la fonction principale\n",
      "mais il reste du boulot, notamment pour le multiprocessing et la gestion des pair vs single"
     ]
    },
    {
     "cell_type": "markdown",
     "metadata": {},
     "source": [
      "# 2014 05 06\n",
      "## @ Isis.py\n",
      "Ecriture des fastq directement dans une archive gz\n",
      "Programme fonctionnel sans utilisation de la classe de configuration, mais lent.\n",
      "\n",
      "## TODO\n",
      "* Implementer le multiprocessing\n",
      "* Simplification importante de la classe Fileparser et isisConf \u00e0 l'aide de la classe de la librairie standard python ConFileParser...\n",
      "* Generation d'un rapport de distibution des fragment de sonication pour le mode pe.\n"
     ]
    },
    {
     "cell_type": "markdown",
     "metadata": {},
     "source": [
      "# 2014 05 12\n",
      "## @ Isis.py\n",
      "Impl\u00e9mentation de la sortie graphique de distribution de la taille des fragments avec pyplot.\n",
      "\n",
      "Exemple de graph avec sonic min = 300, mode = 350, max = 700, certainty = 10 Pour 28 000 reads\n",
      "![\"\"](files/img/test_distribution.png)\n",
      "\n",
      "## @ IsisConf.py\n",
      "Reformatage complet quasiment termin\u00e9"
     ]
    },
    {
     "cell_type": "markdown",
     "metadata": {},
     "source": [
      "# 2014 05 13\n",
      "## @ IsisConf.py\n",
      "\n",
      "Fin de reformatage de IsisConf. Desormais, la classe est plus simple et affiche seulement un message d'erreur si une option est mal param\u00e9tr\u00e9e. La classe ConfFileParser a \u00e9t\u00e9 supprim\u00e9 et est maintenant remplac\u00e9e par la classe de la librairy standard python ConfigParser. La gestion des exception a \u00e9t\u00e9 ammelior\u00e9 par la cr\u00e9ation d'une classe d'exception personalis\u00e9e IsisConfException dont la fonction est de centralis\u00e9 toute les exception possible qui peuvent intervenir pendant le parsing des options.\n",
      "\n",
      "**Reformatage en profondeur du fichier de configuration**"
     ]
    },
    {
     "cell_type": "markdown",
     "metadata": {},
     "source": [
      "    #########################################################################################\n",
      "    #\t\t\t\t\t\t\t\t\t\t\t                                           #\n",
      "    #\tIsis.py configuration file\t\t\t\t\t\t\t                             #\n",
      "    #\tValues can by customized with users values, but the file template must\t\t     #\n",
      "    #\tremain unchanged\t\t\t\t\t\t\t\t                                   #\n",
      "    #\t* = Changes of value are not recommended for proper programm execution\t\t     #\n",
      "    #\t\t\t\t\t\t\t\t\t\t\t                                           #\n",
      "    #########################################################################################\n",
      "    \n",
      "    [General]\n",
      "    ### General parameters\n",
      "    # Overall quantity of reads (min = 1, INTEGER)\n",
      "    read_num : 100000\n",
      "    # Read length (min = 1, INTEGER)\n",
      "    read_len : 150\n",
      "    # Frequency of mutations in final reads (min = 0, max = 1, FLOAT)\n",
      "    mut_freq : 0.01\n",
      "    # Allow sampling in repeat regions identified by lowercase characters (BOOLEAN)\n",
      "    repeats : True\n",
      "    # Allow sampling in ambigous IUPAC DNA bases (BOOLEAN)\n",
      "    ambiguous : False\n",
      "    \n",
      "    [Frequency]\n",
      "    ### Relative frequencies of DNA source in fastq (sum of frequencies should be equal to 1)\n",
      "    # Host genome frequency (min = 0, max = 1, FLOAT)\n",
      "    freq_host : 0.49\n",
      "    # Virus genome frequency (min = 0, max = 1, FLOAT)\n",
      "    freq_virus : 0.49\n",
      "    # True junctions frequency (min = 0, max = 1, FLOAT)\n",
      "    freq_tjun : 0.01\n",
      "    # False junctions frequency (min = 0, max = 1, FLOAT)\n",
      "    freq_fjun : 0.01\n",
      "    \n",
      "    [Junction]\n",
      "    ### Parameters specific to junctions between host and viral DNA\n",
      "    # Minimal number bases of bases from each references in reads (min = 0, max = read size/2 for se mode, max = read_len for pe mode, INTEGER)\n",
      "    min_chimeric : 25\n",
      "    # Mean number of sampling in true junctions (min = 0, max = freq_tj * read_num, FLOAT)\n",
      "    samp_tjun : 20\n",
      "    # Mean number of sampling in false junction (min = 0, max = freq_tj * read_num, FLOAT) *\n",
      "    samp_fjun : 0.1\n",
      "    \n",
      "    [Sonication]\n",
      "    ## Parameters of fragment sonication distribution to set up if paired end mode\n",
      "    # Minimal sonication size (min = read_len + min_chimeric, max = size of reference sequences, INTEGER)\n",
      "    sonic_min : 200\n",
      "    # Minimal sonication size (min = sonic_min, max = size of reference sequences, INTEGER)\n",
      "    sonic_mode : 400\n",
      "    # Minimal sonication size (min = sonic_min, max = size of reference sequences, INTEGER)\n",
      "    sonic_max : 1000\n",
      "    # Certainty of the sonication smire (min = 5 (wide peak), max =  50 (thin peak), INTEGER) *\n",
      "    sonic_certainty : 8\n",
      "    \n",
      "    [Quality]\n",
      "    # Quality score scale of fastq output file (fastq-sanger OR fastq-solexa OR fastq-illumina) *\n",
      "    qual_scale : fastq-sanger\n",
      "    # Quality range for mean Phred scores (very-good OR good OR medium OR bad OR very-bad) *\n",
      "    qual_range : good"
     ]
    },
    {
     "cell_type": "markdown",
     "metadata": {},
     "source": [
      "**Ecriture d'un petit script de test de la classe**"
     ]
    },
    {
     "cell_type": "code",
     "collapsed": false,
     "input": [
      "#!/usr/bin/env python\n",
      "# -*- coding: utf-8 -*-\n",
      "\n",
      "from IsisConf import IsisConf, IsisConfException\n",
      "\n",
      "def main ():\n",
      "    \"\"\"main function\"\"\"\n",
      "\n",
      "    # Instantiate the configuration file parser/verifier\n",
      "    try:\n",
      "        config = IsisConf()\n",
      "    except IsisConfException as E:\n",
      "        print (E)\n",
      "        exit (0)\n",
      "\n",
      "    print (repr (config))\n",
      "\n",
      "if __name__ == '__main__':\n",
      "    main()"
     ],
     "language": "python",
     "metadata": {},
     "outputs": []
    },
    {
     "cell_type": "markdown",
     "metadata": {},
     "source": [
      "**Resultats execution**"
     ]
    },
    {
     "cell_type": "markdown",
     "metadata": {},
     "source": [
      "    ./Isis.py -V Bacterial_backbone.fa -H Helper_plasmid.fa -C Conf.txt -o Test -p\n",
      "\n",
      "    Parsing and verification of config file with IsisConf\n",
      "    <Instance of IsisConf>\n",
      "    ambiguous :\tFalse\n",
      "    basename :\tTest\n",
      "    conf_file :\tConf.txt\n",
      "    host_genome :\tHelper_plasmid.fa\n",
      "    min_chimeric :\t25\n",
      "    mut_freq :\t0.01\n",
      "    nread_fjun :\t1000\n",
      "    nread_host :\t49000\n",
      "    nread_tjun :\t1000\n",
      "    nread_virus :\t49000\n",
      "    pair :\tTrue\n",
      "    qual_range :\tgood\n",
      "    qual_scale :\tfastq-sanger\n",
      "    read_len :\t150\n",
      "    read_num :\t100000\n",
      "    repeats :\tTrue\n",
      "    sonic_certainty :\t8\n",
      "    sonic_max :\t1000\n",
      "    sonic_min :\t200\n",
      "    sonic_mode :\t400\n",
      "    uniq_fjun :\t10000\n",
      "    uniq_tjun :\t50\n",
      "    virus_genome :\tBacterial_backbone.fa"
     ]
    },
    {
     "cell_type": "markdown",
     "metadata": {},
     "source": [
      "## @ Isis.py\n",
      "\n",
      "Modification du main pour ajouter une recup\u00e9ration initiale de tout les param\u00e8tres utiles dans dans variables locales \u00e0 partir de IsisConf\n",
      "\n",
      "Un dossier contenant les fichiers g\u00e9n\u00e9r\u00e9s par un run de test avec l'ADN genomique mm1O et le g\u00e9nome AAV et disponible [ICI](files/img/test.tar.gz). \n",
      "Le temps d'execution pour les 100 000 paires de read demand\u00e9 est raisonable (5 minutes) mais pourrait encore \u00eatre ammelior\u00e9 consid\u00e9rablement.\n",
      "\n",
      "\n",
      "## TODO\n",
      "* Verifier si le param\u00e8tre min_chimeric fonctionne corectement en pair end mode et en single end => Sortie graphique align\u00e9e sur chaque jonction ?\n",
      "* Passage en mode multi_thread de la recherche de fastq pour accelerer le traitement."
     ]
    },
    {
     "cell_type": "markdown",
     "metadata": {},
     "source": [
      "# 2014 05 15\n",
      "\n",
      "En ce qui concerne la sortie permettant de verifier l'alignement sur chaque jonctions, le mieux serait de produire un fichier fasta du dictionnaire de jonctions (\u00e0 implementer dans la classe Referencejunction) et un fichier SAM regroupant les reads sampl\u00e9s dans la jonctions en questions \u00e0 partir de \u00e7a il sera simple de faire une visualisation sous igv."
     ]
    },
    {
     "cell_type": "markdown",
     "metadata": {},
     "source": [
      "# 2014 05 17\n",
      "En reflechissant bien il serait plus pertinant de generer un graph de couverture directement dans le programme. Il me semblerait m\u00eame \u00eatre bien d'ajouter une option dans le fichier de configuration qui autorise on non la g\u00e9n\u00e9ration des graphiques de distribution de taille des fragments et de couverure autour des jonctions"
     ]
    },
    {
     "cell_type": "markdown",
     "metadata": {},
     "source": [
      "# 2014 05 18\n",
      "## @ ReferenceJunction, ReferenceGenome, SlicePicker\n",
      "\n",
      "La localisation des reads est maintenant donn\u00e9e de fa\u00e7on precise pour les read issu de pair (au lieu de la position du fragment dont ils sont tir\u00e9s.\n",
      "\n",
      "La localisation est desormais toujours donn\u00e9e en 5' vers 3' et l'orientation est indiqu\u00e9e par + ou - \n",
      "\n",
      "## @ Isis.py\n",
      "\n",
      "Un programme tirant parti de matplotlib trace un graph de couverture \u00e0 partir d'une liste indiquant la couverture \u00e0 chaque position = jun_cov_graph\n",
      "\n",
      "Les programmes write_fastq_single et write fastq_pair ont \u00e9t\u00e9 modifi\u00e9. Ils accepte maintenant une liste de source contenant : L'objet source, le nb de read a sampler et un bool\u00e9en indiquant si il faut ajouter les paires au graph de couverture (True pour junctions uniquement). \n",
      "\n",
      "Implementation de 2 options suppl\u00e9mentaires dans le fichier de configuration:\n",
      "* Graph : activation des sorties de visualisation graphique\n",
      "** Si l'option est indiqu\u00e9e, une liste qui sera utilis\u00e9e pour stock\u00e9 la couverture des junction est initialis\u00e9 puis compl\u00e9t\u00e9e au fur et \u00e0 mesure pendant la g\u00e9n\u00e9ration des fastq. Le graph est trac\u00e9 \u00e0 la fin  avec la fonction jun_cov_graph\n",
      "**  Si le mode pair end est activ\u00e9 une distribution des fragments de sonication est \u00e9galement r\u00e9alis\u00e9.\n",
      "* Report : Si l'option est activ\u00e9e un rapport d'echantillonnage dans chaque source (host, virus, tjun et fjun) est g\u00e9n\u00e9r\u00e9\n",
      "\n",
      "\n",
      "### Evaluation de la couverture autour de la jonction en fonction du param\u00e8tre min_chimeric:"
     ]
    },
    {
     "cell_type": "markdown",
     "metadata": {},
     "source": [
      "![\"\"](files/img/Junction_coverage.png)"
     ]
    },
    {
     "cell_type": "markdown",
     "metadata": {},
     "source": [
      "### Interpretation de la variation de min chimeric\n",
      "* En mode single end\n",
      "\n",
      "Si min_chimeric est faible une grande latitude est laiss\u00e9 dans le choix de la position au dessus de la jonction. Au contraire un min_chimeric au max (read_len / 2) autorise une seule positionjuste sur le milieu de la jonction. # min_chimeric indique le minimal de base sur l'une des 2 references.#\n",
      "\n",
      "* En mode pair end\n",
      "\n",
      "On observe le m\u00eame phenomene, mais il y a en plus une variabilit\u00e9 de taille maximale caus\u00e9e par la distribution beta de la taille des fragments. Dans ce mode, on peut monter \u00e0 max = read_len, dans ce cas, il y un read d'un cot\u00e9 de la jonction, et le mate toujours de l'autre cot\u00e9.\n"
     ]
    },
    {
     "cell_type": "markdown",
     "metadata": {},
     "source": [
      "# 2014 06 02\n",
      "\n",
      "## General modifications of read SeqRecord namming and annotations\n",
      "\n",
      "To simplify id naming will be done just before fastq writting from the annotation dictionnary\n",
      "\n",
      "### @ ReferenceGenome and ReferenceJunction\n",
      "\n",
      "* Remove id naming\n",
      "* Adding object self referencement as the source of each slice generated\n",
      "\n",
      "Exemple of origin reference sequence retrieval t"
     ]
    },
    {
     "cell_type": "code",
     "collapsed": false,
     "input": [
      "s.annotations[\"source\"] = self"
     ],
     "language": "python",
     "metadata": {},
     "outputs": []
    },
    {
     "cell_type": "code",
     "collapsed": false,
     "input": [
      "from ReferenceGenome import ReferenceGenome as RefGen\n",
      "a = RefGen(\"test\", \"../test/data/Bacterial_backbone.fa\")\n",
      "b = a.get_slice(100)\n",
      "\n",
      "print(b.annotations)\n",
      "\n",
      "str(b.annotations[\"source\"].d[b.annotations[\"refseq\"]].seq[b.annotations[\"location\"][0]:b.annotations[\"location\"][1]])\n"
     ],
     "language": "python",
     "metadata": {},
     "outputs": [
      {
       "output_type": "stream",
       "stream": "stdout",
       "text": [
        "Initialisation of test...\n",
        "\tExtracting data\n",
        "{'source': ReferenceGenome : Instance of test\n",
        "ID: Bacterial_backbone\n",
        "Name: Bacterial_backbone\n",
        "Description: Bacterial_backbone\n",
        "Number of features: 0\n",
        "/nb_samp=1\n",
        "Seq('atagatgatacgtagcactctaggcgtagctagactgctcgtagcatacgtacg...gca', SingleLetterAlphabet())\n",
        "Lenght:1260\n",
        ", 'refseq': 'Bacterial_backbone', 'orientation': '+', 'location': [465, 565]}\n"
       ]
      },
      {
       "output_type": "pyout",
       "prompt_number": 34,
       "text": [
        "'atacgtacgatattatcggcgatcggctaagctacgcatgactagctacgatcgtagctagctagctcgcgcatctatcagtcgactcagtagtaacgtc'"
       ]
      }
     ],
     "prompt_number": 34
    },
    {
     "cell_type": "markdown",
     "metadata": {},
     "source": [
      "Success !!\n",
      "\n",
      "### @ SlicePicker\n",
      "\n",
      "* Removed source asignment as ref\n",
      "* Renaming of name\n"
     ]
    },
    {
     "cell_type": "code",
     "collapsed": false,
     "input": [
      "# VERSION SINGLE END\n",
      "\n",
      "from ReferenceGenome import ReferenceGenome as RefGen\n",
      "a = RefGen(\"test\", \"../test/data/Bacterial_backbone.fa\")\n",
      "\n",
      "from SlicePicker import SlicePickerSingle\n",
      "b = SlicePickerSingle(100,1,1,0)\n",
      "c = b.pick_slice(a)\n",
      "print (c)\n",
      "\n",
      "# Sequence stored in the object\n",
      "print(str(c.seq))\n",
      "\n",
      "# Sequence retrieved through annotation dictionnary\n",
      "seq = c.annotations[\"source\"].d[c.annotations[\"refseq\"]].seq[c.annotations[\"location\"][0]:c.annotations[\"location\"][1]]\n",
      "if c.annotations[\"orientation\"] =='+':\n",
      "    print (str(seq))\n",
      "else:\n",
      "    print (str(seq.reverse_complement()))"
     ],
     "language": "python",
     "metadata": {},
     "outputs": [
      {
       "output_type": "stream",
       "stream": "stdout",
       "text": [
        "Initialisation of test...\n",
        "\tExtracting data\n",
        "Number of features: 0\n",
        "/source=<Instance of ReferenceGenome from ReferenceGenome >\n",
        "/refseq=Bacterial_backbone\n",
        "/Mutations=[]\n",
        "/orientation=+\n",
        "/location=[753, 853]\n",
        "Seq('cagtcgactcagtagtaacgtcagtacgctagctcagtacgactgcatcgcgcg...cgt', SingleLetterAlphabet())\n",
        "cagtcgactcagtagtaacgtcagtacgctagctcagtacgactgcatcgcgcgcatataactatctgattcggctatatatgcgcaatagatgatacgt\n",
        "cagtcgactcagtagtaacgtcagtacgctagctcagtacgactgcatcgcgcgcatataactatctgattcggctatatatgcgcaatagatgatacgt\n"
       ]
      }
     ],
     "prompt_number": 1
    },
    {
     "cell_type": "code",
     "collapsed": false,
     "input": [
      "# VERSION PAIR END\n",
      "\n",
      "from ReferenceGenome import ReferenceGenome as RefGen\n",
      "a = RefGen(\"test\", \"../test/data/Bacterial_backbone.fa\")\n",
      "\n",
      "from SlicePicker import SlicePickerPair\n",
      "b = SlicePickerPair(100,150,200,300,10,1,1,0)\n",
      "\n",
      "c,d = b.pick_slice(a)\n",
      "print (c)\n",
      "print (d)\n",
      "\n",
      "# Sequence stored in the object\n",
      "print(str(c.seq))\n",
      "\n",
      "# Sequence retrieved through annotation dictionnary\n",
      "seq = c.annotations[\"source\"].d[c.annotations[\"refseq\"]].seq[c.annotations[\"location\"][0]:c.annotations[\"location\"][1]]\n",
      "if c.annotations[\"orientation\"] =='+':\n",
      "    print (str(seq))\n",
      "else:\n",
      "    print (str(seq.reverse_complement()))\n",
      "\n",
      "# Sequence stored in the object\n",
      "print(str(d.seq))\n",
      "\n",
      "# Sequence retrieved through annotation dictionnary\n",
      "seq = d.annotations[\"source\"].d[d.annotations[\"refseq\"]].seq[d.annotations[\"location\"][0]:d.annotations[\"location\"][1]]\n",
      "if d.annotations[\"orientation\"] =='+':\n",
      "    print (str(seq))\n",
      "else:\n",
      "    print (str(seq.reverse_complement()))"
     ],
     "language": "python",
     "metadata": {},
     "outputs": [
      {
       "output_type": "stream",
       "stream": "stdout",
       "text": [
        "Initialisation of test...\n",
        "\tExtracting data\n",
        "Number of features: 0\n",
        "/orientation=+\n",
        "/frag_len=211\n",
        "/Mutations=[]\n",
        "/source=<Instance of ReferenceGenome from ReferenceGenome >\n",
        "/mate=R1\n",
        "/location=[445, 545]\n",
        "/pair_overlap=0\n",
        "/refseq=Bacterial_backbone\n",
        "Seq('gtagctagactgctcgtagcatacgtacgatattatcggcgatcggctaagcta...tca', SingleLetterAlphabet())\n",
        "Number of features: 0\n",
        "/orientation=-\n",
        "/frag_len=211\n",
        "/Mutations=[]\n",
        "/source=<Instance of ReferenceGenome from ReferenceGenome >\n",
        "/mate=R2\n",
        "/location=[556, 656]\n",
        "/pair_overlap=0\n",
        "/refseq=Bacterial_backbone\n",
        "Seq('cgcctagagtgctacgtatcatctattgcgcatatatagccgaatcagatagtt...act', SingleLetterAlphabet())\n",
        "gtagctagactgctcgtagcatacgtacgatattatcggcgatcggctaagctacgcatgactagctacgatcgtagctagctagctcgcgcatctatca\n",
        "gtagctagactgctcgtagcatacgtacgatattatcggcgatcggctaagctacgcatgactagctacgatcgtagctagctagctcgcgcatctatca\n",
        "cgcctagagtgctacgtatcatctattgcgcatatatagccgaatcagatagttatatgcgcgcgatgcagtcgtactgagctagcgtactgacgttact\n",
        "cgcctagagtgctacgtatcatctattgcgcatatatagccgaatcagatagttatatgcgcgcgatgcagtcgtactgagctagcgtactgacgttact\n"
       ]
      }
     ],
     "prompt_number": 1
    },
    {
     "cell_type": "markdown",
     "metadata": {},
     "source": [
      "Possibility to recover the seq directly thought the dictionnary of annotations. Good but much heavier + do not take into acount possible mutations."
     ]
    },
    {
     "cell_type": "markdown",
     "metadata": {},
     "source": [
      "### @ Isis and ReferenceJunction\n",
      "\n",
      "Writing id generator in Isis and id origin_coord function in RefJun. Harder than I believed... \n",
      "It becomes insanely complicated when it comes to reads ovelapping junctions. See prototype bellow. "
     ]
    },
    {
     "cell_type": "code",
     "collapsed": false,
     "input": [
      "  def origin_coord (self, refseq, start, end):\n",
      "        \"\"\" Return a string describing the the origin of a sequence from a\n",
      "        junction of the dictionnary\n",
      "        \"\"\"\n",
      "        # If the give coord overlap only the left reference of a junction\n",
      "        if start <= end <= self.half_len:\n",
      "            return (\"{}-{}={}\".format(\n",
      "            1, end-start,\n",
      "            self.coord_to_str(self.d[refseq].annotations, \"ref1\", start, end)))\n",
      "\n",
      "        # If the give coord overlap only the right reference of a junction\n",
      "        elif self.half_len <= start <= end:\n",
      "            return (\"{}-{}={}\".format(\n",
      "            1,end-start,\n",
      "            self.coord_to_str(self.d[refseq].annotations, \"ref2\", start-self.half_len, end-self.half_len)))\n",
      "\n",
      "        # If the give coord overlap both references of a junction\n",
      "        else :\n",
      "            return (\"{}-{}={}|{}-{}={}\".format(\n",
      "            1,self.half_len-start,\n",
      "            self.coord_to_str(self.d[refseq].annotations, \"ref1\", start, self.half_len-1),\n",
      "            self.half_len-start+1, end-start,\n",
      "            self.coord_to_str(self.d[refseq].annotations, \"ref2\", self.half_len, end)))\n",
      "\n",
      "    def coord_to_str (self, d, ref, start, end, ):\n",
      "        \"\"\"\n",
      "        \"\"\"\n",
      "        ref_id = d[ref+\"_refseq\"].id\n",
      "\n",
      "        if d[ref+\"_orientation\"] == '+':\n",
      "            ref_start = d[ref+\"_location\"][0] + start\n",
      "            ref_end = d[ref+\"_location\"][0] + end\n",
      "\n",
      "        else:\n",
      "            ref_start = d[ref+\"_location\"][1] - end\n",
      "            ref_end = d[ref+\"_location\"][1] - start\n",
      "\n",
      "        return (\"{}:{}-{}\".format(ref_id, ref_start, ref_end))"
     ],
     "language": "python",
     "metadata": {},
     "outputs": []
    },
    {
     "cell_type": "markdown",
     "metadata": {},
     "source": [
      "#\u00a02014 06 03\n",
      "\n",
      "### @ ReferenceJunction\n",
      "\n",
      "Test and debuging of the new functions. Few modifications had been made to the code to simplify the reaching of the original sequence through the annotation dictionnary of reads."
     ]
    },
    {
     "cell_type": "code",
     "collapsed": false,
     "input": [
      "from ReferenceGenome import ReferenceGenome as RefGen\n",
      "from ReferenceJunctions import ReferenceJunctions as RefJun\n",
      "\n",
      "a = RefGen(\"Bact\", \"../test/data/Bacterial_backbone.fa\")\n",
      "b = RefGen(\"Help\", \"../test/data/Helper_plasmid.fa\")\n",
      "\n",
      "c = RefJun(\"Tjun\", 50, 200, 10, a, b, 1, 1)"
     ],
     "language": "python",
     "metadata": {},
     "outputs": [
      {
       "output_type": "stream",
       "stream": "stdout",
       "text": [
        "Initialisation of Bact...\n",
        "\tExtracting data\n",
        "Initialisation of Help...\n",
        "\tExtracting data\n",
        "Initialisation of Tjun...\n",
        "\tCreating junctions between Bact and Help\n"
       ]
      }
     ],
     "prompt_number": 1
    },
    {
     "cell_type": "code",
     "collapsed": false,
     "input": [
      "refseq = c.d[\"Junction_05\"]\n",
      "\n",
      "print (\"\\nJUNCTION SEQUENCE\")\n",
      "print (str(refseq.seq[180:219]))\n",
      "\n",
      "print (\"\\nJUNCTION CARACT\") \n",
      "for ref in [\"ref1\", \"ref2\"]:\n",
      "    print (\"{} : {} - {} ({})\".format(\n",
      "        refseq.annotations[ref+\"_refseq\"].id,\n",
      "        refseq.annotations[ref+\"_location\"][0],\n",
      "        refseq.annotations[ref+\"_location\"][1],\n",
      "        refseq.annotations[ref+\"_orientation\"]))\n",
      "\n",
      "print (\"\\nCOORDINATES\") \n",
      "# left ref only\n",
      "print(c.origin_coord(refseq, 180, 199))\n",
      "# right ref only\n",
      "print(c.origin_coord(refseq, 200, 219))\n",
      "# Overlap both ref\n",
      "print(c.origin_coord(refseq, 180, 219))"
     ],
     "language": "python",
     "metadata": {},
     "outputs": [
      {
       "output_type": "stream",
       "stream": "stdout",
       "text": [
        "\n",
        "JUNCTION SEQUENCE\n",
        "ctagagtgctacgtatcatcAGCGAGTATATATAGGACT\n",
        "\n",
        "JUNCTION CARACT\n",
        "Bacterial_backbone : 213 - 413 (-)\n",
        "Helper_4 : 4395 - 4595 (+)\n",
        "\n",
        "COORDINATES\n",
        "0-19=Bacterial_backbone:213-233\n",
        "0-19=Helper_4:4395-4415\n",
        "0-19=Bacterial_backbone:213-233|20-39=Helper_4:4395-4415\n"
       ]
      }
     ],
     "prompt_number": 2
    },
    {
     "cell_type": "markdown",
     "metadata": {},
     "source": [
      "###\u00a0@ Isis\n",
      "\n",
      "Test and debugging of the whole program with the the new read identifiers.\n",
      "\n",
      "Exemple of reads extracted from R1.fastq.gz with condition that do not allow reads to overlap a junction"
     ]
    },
    {
     "cell_type": "markdown",
     "metadata": {},
     "source": [
      "    @virus|018|0|All=Bacterial_backbone:810-960\n",
      "    gatgcgcgagctagctagctacgatcgtagctagtcatgcgtagcttagccgatcgccgataatatcgtacgtatgctacgagcagtctagctacgcctagagtgctacgtatcatctattgcgcatatatagccgaatcagatagttat\n",
      "    +\n",
      "    B@?@A?A@BFFEEEEGFFFFFFFFFEEECDEEEEEDDEEEEEEEEFFFGFFEDEEEFFFFFEEEEEEDFDEFGHGGCCGFEEDDECDFHE@EGFEEEBFC?EFC:>;>E??;=F?CIHFF<?EGFDCB@AD=C>9BE8<>>?;>?GHF:;\n",
      "    ...\n",
      "    @host|063|0|All=Phage_lambda_genome_J02459.1:21013-21163\n",
      "    AACCTGAGTCAGTTCAGTCAGGCTGGCGGCATCATTTTCCGCAAGATACGGTAATTTATTTTTCACCGTGGAAAGCCCTGCCAGCGCCGTCAGTGTCGCATTCTTCGGTTGTTTACCCGCAAGCGCGTTAGTCATGGTGGTAGCAAAATC\n",
      "    +\n",
      "    ACCBCA@B?ABBDCDGGGDFGFFFFFEFFFFFGFFFFFGFFDEEEEEEGGEBDFEEDFFGFFFGFGEFFIHIFEEEFECDECCDBFFHHGFIHFEACFGD@A<@BDFIACGCACCABA@>B>@AFDDA?C?6A=?C@<?@?<>E=DBAAC\n",
      "    ...\n",
      "    @True_Junction|112|1|0-150=Helper_plasmid:19657-19808\n",
      "    TACGTCACTTCCCATTTTAAGAAAACTACAATTCCCAACACATACAAGTTACTCCGCCCTAAAACCTACGTCACCCGCCCCGTTCCCACGCCCCGCGCCACGTCACAAACTCCACCCCCTCATTATCATATTGGCTTCAATCCAAAATAA\n",
      "    +\n",
      "    EGB@ABBDEDDDBAADDEEEEDGFDEEEDEEFFFFFFFFFFFEEEFFEEFFFFFGEEEEEEFFGFGFGFCDEBDGDDEDFFFGECBFGFFFFEEEEBC:<?BDFDGFFDCDCAC?;=?CCBA8=D@@ACB=9C?EF>9A?BE47966H7?\n",
      "    ...\n",
      "    @False_Junction|249|1|0-150=Bacterial_backbone:515-666\n",
      "    agtctagctacgcctagagtgctacgtatcatctattgcgcatatatagccgaatcagatagttatatgcgcgcgatgcagtcgtactgagctagcgtactgacgttactactgagtcgactgatagatgcgcgagctagctagctacga\n",
      "    +\n",
      "    AAAAA?A@A>??CDCDEEFFDECCCDDEEEEDEEEFFFGFDFEFEGGFGFFFFDEEDFHGFFFDEEEEEFHIEHGGFFIDGFHGFEDEEAA<>CFFDDCGIIBHF@HFEFC>;EGACGCCEHECAB<C<@DD9AI>=??DBIGD<5::93"
     ]
    },
    {
     "cell_type": "markdown",
     "metadata": {},
     "source": [
      "Exemple of reads extracted from R1.fastq.gz with condition that allow reads to overlap a junction"
     ]
    },
    {
     "cell_type": "markdown",
     "metadata": {},
     "source": [
      "    ...\n",
      "    @True_Junction|194|1|0-97=Bacterial_backbone:1144-1242|98-150=Phage_lambda_genome_J02459.1:41117-41170\n",
      "    CatcgtagctagctGgctcgcgcatctatcagtcgactcagtagtaacgtcagtacgctagctcagtacTactgcatcgcgcgcatataactatctgaCAGCATATTTGCTCTGGCCAATGGAGCAAAAGCGACGGGCAGGTAAAGACGT\n",
      "    +\n",
      "    A@@AABBB@ABCDDCDEEEDEEEEEEECEEEFFFFHGFFFEEFFGHGFFFFFEEEEEEEDDEEEEDEEGFGFFHGDEECCBDFFEFFFBHGB<?ECGFEEIGHHIIFB>HFDGC=<ACBHIAB@A>:C8EG=@83:<IAA?GDBFG><>\n",
      "    ...\n",
      "    @False_Junction|107|1|0-4=Bacterial_backbone:1019-1024|5-150=Phage_lambda_genome_J02459.1:35573-35719\n",
      "    TCAGATCTCTCACCTACCATACAATGCCCCCCTGCAAAAAATAAATTCATATAAAAAACATACAGATAACCATCTGCGGTGATAAATTATCTCTGGCGGTGTTGACATAAATACCACTGGCGGTGATACTGAGCACATCAGCAGGttata\n",
      "    +\n",
      "    GECEFDDDBCBEEDDFFFFFFFDEFFGFGFEDEEEEEEEEDEEEEFFGFFFFGEEEFFFFFEEEECDEFHGGFFIIGFFHDEEBCDGGFFFHFEDDCHIGCCE@=:A@AE?DDDDB?=BHEA@?@<?GFAA?<>>CDEB9<@CGD:8FIE"
     ]
    },
    {
     "cell_type": "markdown",
     "metadata": {},
     "source": [
      "## @ Isis > IsisMain\n",
      "\n",
      "### Major modification of the main class.\n",
      "\n",
      "Main() was removed to be replaced by top level instructions just bellow  ```if __name__ == '__main__':```\n",
      "\n",
      "It has several avantage over the use of an independant main :\n",
      "* Variable declared in the section are global (same as self class variables) = less parameters to be given at function call\n",
      "* Pair end and single end processing were more clearly separed in 2 independant functions = IsisPair and IsisSingle\n",
      "* pyplot is imported only if the option GRAPH is True (reduce dependancies requirement)\n",
      "\n",
      "###\u00a0TODO\n",
      "\n",
      "Make a doxygen complient documentation\n",
      "\n"
     ]
    }
   ],
   "metadata": {}
  }
 ]
}